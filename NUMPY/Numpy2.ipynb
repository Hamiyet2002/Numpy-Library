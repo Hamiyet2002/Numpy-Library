{
 "cells": [
  {
   "cell_type": "code",
   "execution_count": 4,
   "id": "311fa80d",
   "metadata": {},
   "outputs": [],
   "source": [
    "import numpy as np"
   ]
  },
  {
   "cell_type": "code",
   "execution_count": 5,
   "id": "d45ad988",
   "metadata": {},
   "outputs": [],
   "source": [
    "dizi=np.arange(1,24)"
   ]
  },
  {
   "cell_type": "code",
   "execution_count": 6,
   "id": "f9ee0abd",
   "metadata": {},
   "outputs": [
    {
     "data": {
      "text/plain": [
       "array([ 1,  2,  3,  4,  5,  6,  7,  8,  9, 10, 11, 12, 13, 14, 15, 16, 17,\n",
       "       18, 19, 20, 21, 22, 23])"
      ]
     },
     "execution_count": 6,
     "metadata": {},
     "output_type": "execute_result"
    }
   ],
   "source": [
    "dizi"
   ]
  },
  {
   "cell_type": "code",
   "execution_count": 7,
   "id": "a924fc1c",
   "metadata": {},
   "outputs": [
    {
     "data": {
      "text/plain": [
       "dtype('int32')"
      ]
     },
     "execution_count": 7,
     "metadata": {},
     "output_type": "execute_result"
    }
   ],
   "source": [
    "dizi.dtype"
   ]
  },
  {
   "cell_type": "code",
   "execution_count": 8,
   "id": "481cc284",
   "metadata": {},
   "outputs": [],
   "source": [
    "başkaDizi = np.array([\"ayşe\", \"fatma\", \"sena\",\"ahmet\"])"
   ]
  },
  {
   "cell_type": "code",
   "execution_count": 9,
   "id": "ae01f01b",
   "metadata": {},
   "outputs": [
    {
     "data": {
      "text/plain": [
       "array(['ayşe', 'fatma', 'sena', 'ahmet'], dtype='<U5')"
      ]
     },
     "execution_count": 9,
     "metadata": {},
     "output_type": "execute_result"
    }
   ],
   "source": [
    "başkaDizi"
   ]
  },
  {
   "cell_type": "code",
   "execution_count": 10,
   "id": "5401dd6b",
   "metadata": {},
   "outputs": [
    {
     "data": {
      "text/plain": [
       "(4,)"
      ]
     },
     "execution_count": 10,
     "metadata": {},
     "output_type": "execute_result"
    }
   ],
   "source": [
    "başkaDizi.shape # dizideki eleman sayısını verir"
   ]
  },
  {
   "cell_type": "code",
   "execution_count": 11,
   "id": "ae13e989",
   "metadata": {},
   "outputs": [
    {
     "data": {
      "text/plain": [
       "array([['ayşe', 'fatma'],\n",
       "       ['sena', 'ahmet']], dtype='<U5')"
      ]
     },
     "execution_count": 11,
     "metadata": {},
     "output_type": "execute_result"
    }
   ],
   "source": [
    "başkaDizi.reshape((2,2))"
   ]
  },
  {
   "cell_type": "code",
   "execution_count": 12,
   "id": "e951b1b6",
   "metadata": {},
   "outputs": [
    {
     "data": {
      "text/plain": [
       "dtype('<U5')"
      ]
     },
     "execution_count": 12,
     "metadata": {},
     "output_type": "execute_result"
    }
   ],
   "source": [
    "başkaDizi.dtype"
   ]
  },
  {
   "cell_type": "code",
   "execution_count": 13,
   "id": "0d22e98e",
   "metadata": {},
   "outputs": [
    {
     "data": {
      "text/plain": [
       "(2, 2)"
      ]
     },
     "execution_count": 13,
     "metadata": {},
     "output_type": "execute_result"
    }
   ],
   "source": [
    "başkaDizi.reshape((2,2)).shape # matriksin kaça kaç olduğunu veriyor ilki sütun ikincisi satır"
   ]
  },
  {
   "cell_type": "code",
   "execution_count": 14,
   "id": "4a615513",
   "metadata": {},
   "outputs": [],
   "source": [
    "x = başkaDizi.reshape((4,1))"
   ]
  },
  {
   "cell_type": "code",
   "execution_count": 15,
   "id": "fc5b84a5",
   "metadata": {},
   "outputs": [
    {
     "data": {
      "text/plain": [
       "array([['ayşe'],\n",
       "       ['fatma'],\n",
       "       ['sena'],\n",
       "       ['ahmet']], dtype='<U5')"
      ]
     },
     "execution_count": 15,
     "metadata": {},
     "output_type": "execute_result"
    }
   ],
   "source": [
    "x"
   ]
  },
  {
   "cell_type": "code",
   "execution_count": 16,
   "id": "d8f515dd",
   "metadata": {},
   "outputs": [
    {
     "data": {
      "text/plain": [
       "(4, 1)"
      ]
     },
     "execution_count": 16,
     "metadata": {},
     "output_type": "execute_result"
    }
   ],
   "source": [
    "x.shape"
   ]
  },
  {
   "cell_type": "code",
   "execution_count": 17,
   "id": "2f0d7c06",
   "metadata": {},
   "outputs": [],
   "source": [
    "y = np.identity(3) # identity köşegen matriks oluşturuyor"
   ]
  },
  {
   "cell_type": "code",
   "execution_count": 18,
   "id": "f8e7ca9e",
   "metadata": {},
   "outputs": [
    {
     "data": {
      "text/plain": [
       "array([[1., 0., 0.],\n",
       "       [0., 1., 0.],\n",
       "       [0., 0., 1.]])"
      ]
     },
     "execution_count": 18,
     "metadata": {},
     "output_type": "execute_result"
    }
   ],
   "source": [
    "y"
   ]
  },
  {
   "cell_type": "code",
   "execution_count": 19,
   "id": "1593300b",
   "metadata": {},
   "outputs": [
    {
     "data": {
      "text/plain": [
       "dtype('float64')"
      ]
     },
     "execution_count": 19,
     "metadata": {},
     "output_type": "execute_result"
    }
   ],
   "source": [
    "y.dtype # varsayılan değerler yani default değereler float tipindedir"
   ]
  },
  {
   "cell_type": "code",
   "execution_count": 20,
   "id": "afe4b88a",
   "metadata": {},
   "outputs": [],
   "source": [
    "# istediğimiz zaman bu default değerlerin tipini değiştirebiliriz.\n",
    "y = np.identity(3 ,np.int64)"
   ]
  },
  {
   "cell_type": "code",
   "execution_count": 21,
   "id": "cddf3cb3",
   "metadata": {},
   "outputs": [
    {
     "data": {
      "text/plain": [
       "array([[1, 0, 0],\n",
       "       [0, 1, 0],\n",
       "       [0, 0, 1]], dtype=int64)"
      ]
     },
     "execution_count": 21,
     "metadata": {},
     "output_type": "execute_result"
    }
   ],
   "source": [
    "y"
   ]
  },
  {
   "cell_type": "markdown",
   "id": "d553e9eb",
   "metadata": {},
   "source": [
    "## İNDEX AND SLİCE"
   ]
  },
  {
   "cell_type": "code",
   "execution_count": 22,
   "id": "e48ffbeb",
   "metadata": {},
   "outputs": [],
   "source": [
    "a = np.array([[1,2,3],[4,5,6],[7,8,9]])"
   ]
  },
  {
   "cell_type": "code",
   "execution_count": 23,
   "id": "4acc6387",
   "metadata": {},
   "outputs": [
    {
     "data": {
      "text/plain": [
       "array([[1, 2, 3],\n",
       "       [4, 5, 6],\n",
       "       [7, 8, 9]])"
      ]
     },
     "execution_count": 23,
     "metadata": {},
     "output_type": "execute_result"
    }
   ],
   "source": [
    "a # row 0,1,2 ve column 0,1,2"
   ]
  },
  {
   "cell_type": "code",
   "execution_count": 24,
   "id": "1ce91889",
   "metadata": {},
   "outputs": [
    {
     "data": {
      "text/plain": [
       "5"
      ]
     },
     "execution_count": 24,
     "metadata": {},
     "output_type": "execute_result"
    }
   ],
   "source": [
    "a[(1,1)] # (ROW,COLUMN)"
   ]
  },
  {
   "cell_type": "code",
   "execution_count": 25,
   "id": "5b35530e",
   "metadata": {},
   "outputs": [
    {
     "data": {
      "text/plain": [
       "8"
      ]
     },
     "execution_count": 25,
     "metadata": {},
     "output_type": "execute_result"
    }
   ],
   "source": [
    "a[(2,1)]"
   ]
  },
  {
   "cell_type": "code",
   "execution_count": 26,
   "id": "6d6fb626",
   "metadata": {},
   "outputs": [
    {
     "data": {
      "text/plain": [
       "6"
      ]
     },
     "execution_count": 26,
     "metadata": {},
     "output_type": "execute_result"
    }
   ],
   "source": [
    "a[(1,-1)] # birinci satırın son elemanı"
   ]
  },
  {
   "cell_type": "code",
   "execution_count": 27,
   "id": "8582ddf1",
   "metadata": {},
   "outputs": [
    {
     "data": {
      "text/plain": [
       "array([2, 3])"
      ]
     },
     "execution_count": 27,
     "metadata": {},
     "output_type": "execute_result"
    }
   ],
   "source": [
    "a[0,1:] # sıfırıncı satırda birinci sütundan sonuna kadar"
   ]
  },
  {
   "cell_type": "code",
   "execution_count": 28,
   "id": "707ea44f",
   "metadata": {},
   "outputs": [
    {
     "data": {
      "text/plain": [
       "array([4, 5, 6])"
      ]
     },
     "execution_count": 28,
     "metadata": {},
     "output_type": "execute_result"
    }
   ],
   "source": [
    "a[1,0:]"
   ]
  },
  {
   "cell_type": "code",
   "execution_count": 29,
   "id": "983214b0",
   "metadata": {},
   "outputs": [],
   "source": [
    "b =np.array([1,2,3,4,5,6,7,8,9]) # boolenları dizlerde kullanbiliriz"
   ]
  },
  {
   "cell_type": "code",
   "execution_count": 30,
   "id": "f7a65f93",
   "metadata": {},
   "outputs": [
    {
     "data": {
      "text/plain": [
       "numpy.ndarray"
      ]
     },
     "execution_count": 30,
     "metadata": {},
     "output_type": "execute_result"
    }
   ],
   "source": [
    "type(b)"
   ]
  },
  {
   "cell_type": "code",
   "execution_count": 31,
   "id": "658d5edb",
   "metadata": {},
   "outputs": [],
   "source": [
    "c = b<5"
   ]
  },
  {
   "cell_type": "code",
   "execution_count": 32,
   "id": "68e2ef4e",
   "metadata": {},
   "outputs": [
    {
     "data": {
      "text/plain": [
       "array([ True,  True,  True,  True, False, False, False, False, False])"
      ]
     },
     "execution_count": 32,
     "metadata": {},
     "output_type": "execute_result"
    }
   ],
   "source": [
    "c"
   ]
  },
  {
   "cell_type": "code",
   "execution_count": 33,
   "id": "c2ed1488",
   "metadata": {},
   "outputs": [
    {
     "name": "stdout",
     "output_type": "stream",
     "text": [
      "[1 2 3 4]\n"
     ]
    }
   ],
   "source": [
    "print(b[c]) # b dizisindeki c'yi sağlayan elemanları liste şeklinde döndürür"
   ]
  },
  {
   "cell_type": "code",
   "execution_count": 34,
   "id": "7d0c796e",
   "metadata": {},
   "outputs": [
    {
     "data": {
      "text/plain": [
       "numpy.ndarray"
      ]
     },
     "execution_count": 34,
     "metadata": {},
     "output_type": "execute_result"
    }
   ],
   "source": [
    "type(b[c])"
   ]
  },
  {
   "cell_type": "markdown",
   "id": "fb72600f",
   "metadata": {},
   "source": [
    "## MATRİX"
   ]
  },
  {
   "cell_type": "code",
   "execution_count": 35,
   "id": "b2a12072",
   "metadata": {},
   "outputs": [],
   "source": [
    "benimListem = [[10,20,30],[20,30,40],[40,50,60]]"
   ]
  },
  {
   "cell_type": "code",
   "execution_count": 36,
   "id": "4ab77263",
   "metadata": {},
   "outputs": [],
   "source": [
    "benimMatrixDizim = np.array(benimListem)"
   ]
  },
  {
   "cell_type": "code",
   "execution_count": 37,
   "id": "b811d880",
   "metadata": {},
   "outputs": [
    {
     "data": {
      "text/plain": [
       "array([[10, 20, 30],\n",
       "       [20, 30, 40],\n",
       "       [40, 50, 60]])"
      ]
     },
     "execution_count": 37,
     "metadata": {},
     "output_type": "execute_result"
    }
   ],
   "source": [
    "benimMatrixDizim"
   ]
  },
  {
   "cell_type": "code",
   "execution_count": 38,
   "id": "c9d58679",
   "metadata": {},
   "outputs": [
    {
     "data": {
      "text/plain": [
       "array([10, 20, 30])"
      ]
     },
     "execution_count": 38,
     "metadata": {},
     "output_type": "execute_result"
    }
   ],
   "source": [
    "benimMatrixDizim[0]"
   ]
  },
  {
   "cell_type": "code",
   "execution_count": 39,
   "id": "ca08bd20",
   "metadata": {},
   "outputs": [
    {
     "data": {
      "text/plain": [
       "40"
      ]
     },
     "execution_count": 39,
     "metadata": {},
     "output_type": "execute_result"
    }
   ],
   "source": [
    "benimMatrixDizim[1][2]"
   ]
  },
  {
   "cell_type": "code",
   "execution_count": 40,
   "id": "32deb3ac",
   "metadata": {},
   "outputs": [
    {
     "data": {
      "text/plain": [
       "40"
      ]
     },
     "execution_count": 40,
     "metadata": {},
     "output_type": "execute_result"
    }
   ],
   "source": [
    "benimMatrixDizim[1,2]"
   ]
  },
  {
   "cell_type": "code",
   "execution_count": 41,
   "id": "ee2eee3b",
   "metadata": {},
   "outputs": [
    {
     "data": {
      "text/plain": [
       "array([[60]])"
      ]
     },
     "execution_count": 41,
     "metadata": {},
     "output_type": "execute_result"
    }
   ],
   "source": [
    "benimMatrixDizim[2:,2:]"
   ]
  },
  {
   "cell_type": "code",
   "execution_count": 42,
   "id": "72ee43f1",
   "metadata": {},
   "outputs": [],
   "source": [
    "yeniListe = [[0,1,2,3,4],[5,6,7,8,9],[10,11,12,13,14],[15,16,17,18,19],[20,21,22,23,24]]"
   ]
  },
  {
   "cell_type": "code",
   "execution_count": 43,
   "id": "7e8e7bc2",
   "metadata": {},
   "outputs": [],
   "source": [
    "yeniMatrix = np.array(yeniListe)"
   ]
  },
  {
   "cell_type": "code",
   "execution_count": 44,
   "id": "da9b39c4",
   "metadata": {},
   "outputs": [
    {
     "data": {
      "text/plain": [
       "array([[ 0,  1,  2,  3,  4],\n",
       "       [ 5,  6,  7,  8,  9],\n",
       "       [10, 11, 12, 13, 14],\n",
       "       [15, 16, 17, 18, 19],\n",
       "       [20, 21, 22, 23, 24]])"
      ]
     },
     "execution_count": 44,
     "metadata": {},
     "output_type": "execute_result"
    }
   ],
   "source": [
    "yeniMatrix"
   ]
  },
  {
   "cell_type": "code",
   "execution_count": 45,
   "id": "ef9bf002",
   "metadata": {},
   "outputs": [
    {
     "data": {
      "text/plain": [
       "array([[20, 21, 22, 23, 24],\n",
       "       [10, 11, 12, 13, 14],\n",
       "       [ 0,  1,  2,  3,  4]])"
      ]
     },
     "execution_count": 45,
     "metadata": {},
     "output_type": "execute_result"
    }
   ],
   "source": [
    "yeniMatrix[[4,2,0]]"
   ]
  },
  {
   "cell_type": "code",
   "execution_count": null,
   "id": "fea8e8ba",
   "metadata": {},
   "outputs": [],
   "source": []
  }
 ],
 "metadata": {
  "kernelspec": {
   "display_name": "Python 3 (ipykernel)",
   "language": "python",
   "name": "python3"
  },
  "language_info": {
   "codemirror_mode": {
    "name": "ipython",
    "version": 3
   },
   "file_extension": ".py",
   "mimetype": "text/x-python",
   "name": "python",
   "nbconvert_exporter": "python",
   "pygments_lexer": "ipython3",
   "version": "3.10.9"
  }
 },
 "nbformat": 4,
 "nbformat_minor": 5
}

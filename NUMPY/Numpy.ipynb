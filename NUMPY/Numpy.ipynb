{
 "cells": [
  {
   "cell_type": "markdown",
   "id": "514a59ab",
   "metadata": {},
   "source": [
    "# Bir lineer cebir kütüphanesi"
   ]
  },
  {
   "cell_type": "code",
   "execution_count": 1,
   "id": "c1e042d8",
   "metadata": {},
   "outputs": [],
   "source": [
    "import numpy as np"
   ]
  },
  {
   "cell_type": "code",
   "execution_count": 2,
   "id": "dbb9cf51",
   "metadata": {},
   "outputs": [],
   "source": [
    "# numpy array"
   ]
  },
  {
   "cell_type": "code",
   "execution_count": 3,
   "id": "2b501d9e",
   "metadata": {},
   "outputs": [],
   "source": [
    "benimListem = [10,20,30,40]"
   ]
  },
  {
   "cell_type": "code",
   "execution_count": 4,
   "id": "57c84f62",
   "metadata": {},
   "outputs": [
    {
     "data": {
      "text/plain": [
       "array([10, 20, 30, 40])"
      ]
     },
     "execution_count": 4,
     "metadata": {},
     "output_type": "execute_result"
    }
   ],
   "source": [
    "np.array(benimListem)"
   ]
  },
  {
   "cell_type": "code",
   "execution_count": 5,
   "id": "ff4c8485",
   "metadata": {},
   "outputs": [
    {
     "data": {
      "text/plain": [
       "numpy.ndarray"
      ]
     },
     "execution_count": 5,
     "metadata": {},
     "output_type": "execute_result"
    }
   ],
   "source": [
    "type(np.array(benimListem))"
   ]
  },
  {
   "cell_type": "code",
   "execution_count": 6,
   "id": "e61cef3f",
   "metadata": {},
   "outputs": [],
   "source": [
    "# type numpy dizisi olarak döndürüyor"
   ]
  },
  {
   "cell_type": "code",
   "execution_count": 7,
   "id": "245acd5c",
   "metadata": {},
   "outputs": [],
   "source": [
    "matrixListesi = [[10,20,30],[40,50,60],[70,80,90]]"
   ]
  },
  {
   "cell_type": "code",
   "execution_count": 8,
   "id": "daeb0739",
   "metadata": {},
   "outputs": [
    {
     "data": {
      "text/plain": [
       "array([[10, 20, 30],\n",
       "       [40, 50, 60],\n",
       "       [70, 80, 90]])"
      ]
     },
     "execution_count": 8,
     "metadata": {},
     "output_type": "execute_result"
    }
   ],
   "source": [
    "np.array(matrixListesi)"
   ]
  },
  {
   "cell_type": "code",
   "execution_count": 9,
   "id": "4e89c5b3",
   "metadata": {},
   "outputs": [],
   "source": [
    "# liste içindeki listeleri numpyda matrix olarak yani iki boyutlu dizi olarak döndürüyor."
   ]
  },
  {
   "cell_type": "markdown",
   "id": "95643857",
   "metadata": {},
   "source": [
    "# NUMPY METODLARI "
   ]
  },
  {
   "cell_type": "code",
   "execution_count": 10,
   "id": "aec39e5a",
   "metadata": {},
   "outputs": [],
   "source": [
    "# ARANGE"
   ]
  },
  {
   "cell_type": "code",
   "execution_count": 11,
   "id": "16982285",
   "metadata": {},
   "outputs": [
    {
     "data": {
      "text/plain": [
       "[0, 1, 2, 3, 4, 5, 6, 7, 8, 9]"
      ]
     },
     "execution_count": 11,
     "metadata": {},
     "output_type": "execute_result"
    }
   ],
   "source": [
    "list(range(0,10))"
   ]
  },
  {
   "cell_type": "code",
   "execution_count": 12,
   "id": "48264335",
   "metadata": {},
   "outputs": [
    {
     "data": {
      "text/plain": [
       "array([0, 1, 2, 3, 4, 5, 6, 7, 8, 9])"
      ]
     },
     "execution_count": 12,
     "metadata": {},
     "output_type": "execute_result"
    }
   ],
   "source": [
    "np.arange(0,10)"
   ]
  },
  {
   "cell_type": "code",
   "execution_count": 13,
   "id": "45b41f15",
   "metadata": {},
   "outputs": [
    {
     "data": {
      "text/plain": [
       "array([0, 2, 4, 6, 8])"
      ]
     },
     "execution_count": 13,
     "metadata": {},
     "output_type": "execute_result"
    }
   ],
   "source": [
    "np.arange(0,10,2)\n",
    "# üçüncü veri step size"
   ]
  },
  {
   "cell_type": "code",
   "execution_count": 14,
   "id": "8ea653b4",
   "metadata": {},
   "outputs": [],
   "source": [
    "#zeros= elemanları sıfır olan numpy dizisi çıkarır"
   ]
  },
  {
   "cell_type": "code",
   "execution_count": 15,
   "id": "fcfd5b09",
   "metadata": {},
   "outputs": [
    {
     "data": {
      "text/plain": [
       "array([0., 0., 0., 0., 0.])"
      ]
     },
     "execution_count": 15,
     "metadata": {},
     "output_type": "execute_result"
    }
   ],
   "source": [
    "np.zeros(5)"
   ]
  },
  {
   "cell_type": "code",
   "execution_count": 16,
   "id": "82701c8e",
   "metadata": {},
   "outputs": [
    {
     "data": {
      "text/plain": [
       "array([[0., 0., 0., 0., 0., 0., 0., 0., 0.],\n",
       "       [0., 0., 0., 0., 0., 0., 0., 0., 0.],\n",
       "       [0., 0., 0., 0., 0., 0., 0., 0., 0.],\n",
       "       [0., 0., 0., 0., 0., 0., 0., 0., 0.],\n",
       "       [0., 0., 0., 0., 0., 0., 0., 0., 0.],\n",
       "       [0., 0., 0., 0., 0., 0., 0., 0., 0.],\n",
       "       [0., 0., 0., 0., 0., 0., 0., 0., 0.],\n",
       "       [0., 0., 0., 0., 0., 0., 0., 0., 0.],\n",
       "       [0., 0., 0., 0., 0., 0., 0., 0., 0.]])"
      ]
     },
     "execution_count": 16,
     "metadata": {},
     "output_type": "execute_result"
    }
   ],
   "source": [
    "np.zeros((9,9))"
   ]
  },
  {
   "cell_type": "code",
   "execution_count": 17,
   "id": "30526e07",
   "metadata": {},
   "outputs": [
    {
     "data": {
      "text/plain": [
       "array([1., 1., 1., 1., 1.])"
      ]
     },
     "execution_count": 17,
     "metadata": {},
     "output_type": "execute_result"
    }
   ],
   "source": [
    "np.ones(5)"
   ]
  },
  {
   "cell_type": "code",
   "execution_count": 18,
   "id": "91b9a12b",
   "metadata": {},
   "outputs": [
    {
     "data": {
      "text/plain": [
       "array([[1., 1., 1., 1., 1., 1.],\n",
       "       [1., 1., 1., 1., 1., 1.],\n",
       "       [1., 1., 1., 1., 1., 1.],\n",
       "       [1., 1., 1., 1., 1., 1.],\n",
       "       [1., 1., 1., 1., 1., 1.],\n",
       "       [1., 1., 1., 1., 1., 1.]])"
      ]
     },
     "execution_count": 18,
     "metadata": {},
     "output_type": "execute_result"
    }
   ],
   "source": [
    "np.ones((6,6))"
   ]
  },
  {
   "cell_type": "code",
   "execution_count": 19,
   "id": "c36af35e",
   "metadata": {},
   "outputs": [],
   "source": [
    "#linspace = ilk veriden başlayıp ikinci veriye kadar sabit farkla(üçüncü veri) artan numpy dizisi oluşturur."
   ]
  },
  {
   "cell_type": "code",
   "execution_count": 20,
   "id": "8106eb34",
   "metadata": {},
   "outputs": [
    {
     "data": {
      "text/plain": [
       "array([ 0.,  5., 10., 15., 20.])"
      ]
     },
     "execution_count": 20,
     "metadata": {},
     "output_type": "execute_result"
    }
   ],
   "source": [
    "np.linspace(0,20,5)"
   ]
  },
  {
   "cell_type": "code",
   "execution_count": 21,
   "id": "d6a7a62c",
   "metadata": {},
   "outputs": [
    {
     "data": {
      "text/plain": [
       "array([ 0.        ,  0.57142857,  1.14285714,  1.71428571,  2.28571429,\n",
       "        2.85714286,  3.42857143,  4.        ,  4.57142857,  5.14285714,\n",
       "        5.71428571,  6.28571429,  6.85714286,  7.42857143,  8.        ,\n",
       "        8.57142857,  9.14285714,  9.71428571, 10.28571429, 10.85714286,\n",
       "       11.42857143, 12.        , 12.57142857, 13.14285714, 13.71428571,\n",
       "       14.28571429, 14.85714286, 15.42857143, 16.        , 16.57142857,\n",
       "       17.14285714, 17.71428571, 18.28571429, 18.85714286, 19.42857143,\n",
       "       20.        ])"
      ]
     },
     "execution_count": 21,
     "metadata": {},
     "output_type": "execute_result"
    }
   ],
   "source": [
    "np.linspace(0,20,36)"
   ]
  },
  {
   "cell_type": "code",
   "execution_count": 22,
   "id": "85fe102e",
   "metadata": {},
   "outputs": [],
   "source": [
    "#eye= aydentity matrix(köşegen matriks)oluşturmak için kullanılır"
   ]
  },
  {
   "cell_type": "code",
   "execution_count": 23,
   "id": "b8a4486b",
   "metadata": {},
   "outputs": [
    {
     "data": {
      "text/plain": [
       "array([[1., 0., 0., 0., 0., 0., 0., 0., 0., 0.],\n",
       "       [0., 1., 0., 0., 0., 0., 0., 0., 0., 0.],\n",
       "       [0., 0., 1., 0., 0., 0., 0., 0., 0., 0.],\n",
       "       [0., 0., 0., 1., 0., 0., 0., 0., 0., 0.],\n",
       "       [0., 0., 0., 0., 1., 0., 0., 0., 0., 0.],\n",
       "       [0., 0., 0., 0., 0., 1., 0., 0., 0., 0.],\n",
       "       [0., 0., 0., 0., 0., 0., 1., 0., 0., 0.],\n",
       "       [0., 0., 0., 0., 0., 0., 0., 1., 0., 0.],\n",
       "       [0., 0., 0., 0., 0., 0., 0., 0., 1., 0.],\n",
       "       [0., 0., 0., 0., 0., 0., 0., 0., 0., 1.]])"
      ]
     },
     "execution_count": 23,
     "metadata": {},
     "output_type": "execute_result"
    }
   ],
   "source": [
    "np.eye(10)"
   ]
  },
  {
   "cell_type": "code",
   "execution_count": 24,
   "id": "f21d8d26",
   "metadata": {},
   "outputs": [],
   "source": [
    "# random kütüphanesi= rasgele sayılardan oluşan numpy dizisi oluşturuyor"
   ]
  },
  {
   "cell_type": "code",
   "execution_count": 25,
   "id": "2212b237",
   "metadata": {},
   "outputs": [
    {
     "data": {
      "text/plain": [
       "array([-1.09977433, -2.38833957,  0.54980952,  0.00987603,  0.54474114,\n",
       "        1.19621403,  1.31678585, -0.37230598])"
      ]
     },
     "execution_count": 25,
     "metadata": {},
     "output_type": "execute_result"
    }
   ],
   "source": [
    "np.random.randn(8)"
   ]
  },
  {
   "cell_type": "code",
   "execution_count": 26,
   "id": "932cdb21",
   "metadata": {},
   "outputs": [
    {
     "data": {
      "text/plain": [
       "array([[-1.11488158, -0.14533683,  0.7210002 , -1.33619314],\n",
       "       [ 0.137804  , -0.53609731, -1.43317936,  0.92292204],\n",
       "       [ 1.77147884,  2.33481983, -0.3216648 ,  0.00258396],\n",
       "       [ 0.59933109, -0.59251182,  0.71091933,  1.4202255 ]])"
      ]
     },
     "execution_count": 26,
     "metadata": {},
     "output_type": "execute_result"
    }
   ],
   "source": [
    "np.random.randn(4,4)"
   ]
  },
  {
   "cell_type": "code",
   "execution_count": 27,
   "id": "f7ff85cc",
   "metadata": {},
   "outputs": [
    {
     "data": {
      "text/plain": [
       "2"
      ]
     },
     "execution_count": 27,
     "metadata": {},
     "output_type": "execute_result"
    }
   ],
   "source": [
    "np.random.randint(1,10)\n",
    "#rastgele değerler veriyor"
   ]
  },
  {
   "cell_type": "code",
   "execution_count": 28,
   "id": "098d570e",
   "metadata": {},
   "outputs": [
    {
     "data": {
      "text/plain": [
       "array([176, 119,  34, 252,  83])"
      ]
     },
     "execution_count": 28,
     "metadata": {},
     "output_type": "execute_result"
    }
   ],
   "source": [
    "np.random.randint(1,300,5)\n",
    "# 1 ile 300 arasından rastgele seçilen beş değer ile bir numpy dizisi oluştur"
   ]
  },
  {
   "cell_type": "code",
   "execution_count": 29,
   "id": "88855c0b",
   "metadata": {},
   "outputs": [],
   "source": [
    "#bir değişkene eşitleyebilirdik"
   ]
  },
  {
   "cell_type": "code",
   "execution_count": 30,
   "id": "982b8531",
   "metadata": {},
   "outputs": [],
   "source": [
    "benimNumpyDizim = np.arange(1,10)"
   ]
  },
  {
   "cell_type": "code",
   "execution_count": 31,
   "id": "7ea16ba3",
   "metadata": {},
   "outputs": [
    {
     "data": {
      "text/plain": [
       "array([1, 2, 3, 4, 5, 6, 7, 8, 9])"
      ]
     },
     "execution_count": 31,
     "metadata": {},
     "output_type": "execute_result"
    }
   ],
   "source": [
    "benimNumpyDizim"
   ]
  },
  {
   "cell_type": "code",
   "execution_count": 32,
   "id": "61c2c10f",
   "metadata": {},
   "outputs": [],
   "source": [
    "#Numpy dizimetodları"
   ]
  },
  {
   "cell_type": "code",
   "execution_count": 33,
   "id": "944182b0",
   "metadata": {},
   "outputs": [],
   "source": [
    "benimReshapeDizim = benimNumpyDizim.reshape(3,3)\n",
    "# reshape numpy dizilerini matrikse dönüştürür."
   ]
  },
  {
   "cell_type": "code",
   "execution_count": 34,
   "id": "fda4ca48",
   "metadata": {},
   "outputs": [
    {
     "data": {
      "text/plain": [
       "9"
      ]
     },
     "execution_count": 34,
     "metadata": {},
     "output_type": "execute_result"
    }
   ],
   "source": [
    "#dizi içerisindeki min ve max değerleri bulmak\n",
    "benimNumpyDizim.max()"
   ]
  },
  {
   "cell_type": "code",
   "execution_count": 35,
   "id": "8f5ebf33",
   "metadata": {},
   "outputs": [
    {
     "data": {
      "text/plain": [
       "1"
      ]
     },
     "execution_count": 35,
     "metadata": {},
     "output_type": "execute_result"
    }
   ],
   "source": [
    "benimNumpyDizim.min()"
   ]
  },
  {
   "cell_type": "code",
   "execution_count": 36,
   "id": "5c63c223",
   "metadata": {},
   "outputs": [
    {
     "data": {
      "text/plain": [
       "8"
      ]
     },
     "execution_count": 36,
     "metadata": {},
     "output_type": "execute_result"
    }
   ],
   "source": [
    "#max ve min değerlerinin indekslerini de bulabiliriz.4\n",
    "benimNumpyDizim.argmax()"
   ]
  },
  {
   "cell_type": "code",
   "execution_count": 37,
   "id": "ffc630a1",
   "metadata": {},
   "outputs": [
    {
     "data": {
      "text/plain": [
       "0"
      ]
     },
     "execution_count": 37,
     "metadata": {},
     "output_type": "execute_result"
    }
   ],
   "source": [
    "benimNumpyDizim.argmin()"
   ]
  },
  {
   "cell_type": "code",
   "execution_count": 38,
   "id": "6e0638d0",
   "metadata": {},
   "outputs": [
    {
     "data": {
      "text/plain": [
       "(9,)"
      ]
     },
     "execution_count": 38,
     "metadata": {},
     "output_type": "execute_result"
    }
   ],
   "source": [
    "benimNumpyDizim.shape"
   ]
  },
  {
   "cell_type": "code",
   "execution_count": 39,
   "id": "c2058d07",
   "metadata": {},
   "outputs": [
    {
     "data": {
      "text/plain": [
       "(3, 3)"
      ]
     },
     "execution_count": 39,
     "metadata": {},
     "output_type": "execute_result"
    }
   ],
   "source": [
    "benimReshapeDizim.shape"
   ]
  },
  {
   "cell_type": "code",
   "execution_count": 40,
   "id": "146b0ded",
   "metadata": {},
   "outputs": [],
   "source": [
    "#shape ise dizinin şeklini veriyor "
   ]
  },
  {
   "cell_type": "markdown",
   "id": "1f413d6c",
   "metadata": {},
   "source": [
    "# NUMPY İNDEKSLER"
   ]
  },
  {
   "cell_type": "code",
   "execution_count": 41,
   "id": "0ca8ece1",
   "metadata": {},
   "outputs": [],
   "source": [
    "benimDizim = np.arange(0,15)"
   ]
  },
  {
   "cell_type": "code",
   "execution_count": 42,
   "id": "c25aedb7",
   "metadata": {},
   "outputs": [
    {
     "data": {
      "text/plain": [
       "array([ 0,  1,  2,  3,  4,  5,  6,  7,  8,  9, 10, 11, 12, 13, 14])"
      ]
     },
     "execution_count": 42,
     "metadata": {},
     "output_type": "execute_result"
    }
   ],
   "source": [
    "benimDizim"
   ]
  },
  {
   "cell_type": "code",
   "execution_count": 43,
   "id": "4b2c7262",
   "metadata": {},
   "outputs": [
    {
     "data": {
      "text/plain": [
       "5"
      ]
     },
     "execution_count": 43,
     "metadata": {},
     "output_type": "execute_result"
    }
   ],
   "source": [
    "benimDizim[5]"
   ]
  },
  {
   "cell_type": "code",
   "execution_count": 44,
   "id": "bca04552",
   "metadata": {},
   "outputs": [
    {
     "data": {
      "text/plain": [
       "array([3, 4, 5, 6, 7])"
      ]
     },
     "execution_count": 44,
     "metadata": {},
     "output_type": "execute_result"
    }
   ],
   "source": [
    "benimDizim[3:8]"
   ]
  },
  {
   "cell_type": "code",
   "execution_count": 45,
   "id": "396fdebf",
   "metadata": {},
   "outputs": [],
   "source": [
    "benimDizim[3:8]=-5\n",
    "#benimDizim[3:8] dizisinin elemanlarını -5 e eşitliyor"
   ]
  },
  {
   "cell_type": "code",
   "execution_count": 46,
   "id": "ee6b34f8",
   "metadata": {},
   "outputs": [
    {
     "data": {
      "text/plain": [
       "array([ 0,  1,  2, -5, -5, -5, -5, -5,  8,  9, 10, 11, 12, 13, 14])"
      ]
     },
     "execution_count": 46,
     "metadata": {},
     "output_type": "execute_result"
    }
   ],
   "source": [
    "benimDizim"
   ]
  },
  {
   "cell_type": "code",
   "execution_count": 56,
   "id": "7a9ae740",
   "metadata": {},
   "outputs": [],
   "source": [
    "başkaDizi=np.arange(0,24)"
   ]
  },
  {
   "cell_type": "code",
   "execution_count": 3,
   "id": "c8e55da7",
   "metadata": {},
   "outputs": [
    {
     "ename": "NameError",
     "evalue": "name 'başkaDizi' is not defined",
     "output_type": "error",
     "traceback": [
      "\u001b[1;31m---------------------------------------------------------------------------\u001b[0m",
      "\u001b[1;31mNameError\u001b[0m                                 Traceback (most recent call last)",
      "Cell \u001b[1;32mIn[3], line 1\u001b[0m\n\u001b[1;32m----> 1\u001b[0m \u001b[43mbaşkaDizi\u001b[49m\n",
      "\u001b[1;31mNameError\u001b[0m: name 'başkaDizi' is not defined"
     ]
    }
   ],
   "source": [
    "başkaDizi"
   ]
  },
  {
   "cell_type": "code",
   "execution_count": 57,
   "id": "5b7196df",
   "metadata": {},
   "outputs": [
    {
     "data": {
      "text/plain": [
       "array([ 0,  1,  2,  3,  4,  5,  6,  7,  8,  9, 10, 11, 12, 13, 14, 15, 16,\n",
       "       17, 18, 19, 20, 21, 22, 23])"
      ]
     },
     "execution_count": 57,
     "metadata": {},
     "output_type": "execute_result"
    }
   ],
   "source": [
    "başkaDizi"
   ]
  },
  {
   "cell_type": "code",
   "execution_count": 58,
   "id": "d9449d02",
   "metadata": {},
   "outputs": [],
   "source": [
    "slicingDizisi = başkaDizi[6:12]"
   ]
  },
  {
   "cell_type": "code",
   "execution_count": 59,
   "id": "c892060a",
   "metadata": {},
   "outputs": [
    {
     "data": {
      "text/plain": [
       "array([ 6,  7,  8,  9, 10, 11])"
      ]
     },
     "execution_count": 59,
     "metadata": {},
     "output_type": "execute_result"
    }
   ],
   "source": [
    "slicingDizisi"
   ]
  },
  {
   "cell_type": "code",
   "execution_count": 60,
   "id": "58d6c367",
   "metadata": {},
   "outputs": [],
   "source": [
    "slicingDizisi[:] = 700"
   ]
  },
  {
   "cell_type": "code",
   "execution_count": 61,
   "id": "ff52aea1",
   "metadata": {},
   "outputs": [
    {
     "data": {
      "text/plain": [
       "array([700, 700, 700, 700, 700, 700])"
      ]
     },
     "execution_count": 61,
     "metadata": {},
     "output_type": "execute_result"
    }
   ],
   "source": [
    "slicingDizisi"
   ]
  },
  {
   "cell_type": "code",
   "execution_count": 62,
   "id": "7546028b",
   "metadata": {},
   "outputs": [
    {
     "data": {
      "text/plain": [
       "array([  0,   1,   2,   3,   4,   5, 700, 700, 700, 700, 700, 700,  12,\n",
       "        13,  14,  15,  16,  17,  18,  19,  20,  21,  22,  23])"
      ]
     },
     "execution_count": 62,
     "metadata": {},
     "output_type": "execute_result"
    }
   ],
   "source": [
    "başkaDizi"
   ]
  },
  {
   "cell_type": "code",
   "execution_count": 63,
   "id": "f5a059ea",
   "metadata": {},
   "outputs": [],
   "source": [
    "# numpy dizilerinden bir parça alır ve sonra bunun üzerinde değişiklikler yaparsanız bu değişiklikler parça aldığınız ana dizinizde de meydzna gelir"
   ]
  },
  {
   "cell_type": "code",
   "execution_count": 64,
   "id": "a0a964df",
   "metadata": {},
   "outputs": [],
   "source": [
    "# eğer ana dizinin yaptığın değişikliklerden etkilenmesini istemiyorsan dizinin .copy() ile yeni bir kopyasını oluşturacak ve kopyası üzerinde işlem yapacaksın"
   ]
  },
  {
   "cell_type": "code",
   "execution_count": 66,
   "id": "c109e190",
   "metadata": {},
   "outputs": [],
   "source": [
    "dizi = np.arange(0,24)"
   ]
  },
  {
   "cell_type": "code",
   "execution_count": 67,
   "id": "af38f0cc",
   "metadata": {},
   "outputs": [
    {
     "data": {
      "text/plain": [
       "array([ 0,  1,  2,  3,  4,  5,  6,  7,  8,  9, 10, 11, 12, 13, 14, 15, 16,\n",
       "       17, 18, 19, 20, 21, 22, 23])"
      ]
     },
     "execution_count": 67,
     "metadata": {},
     "output_type": "execute_result"
    }
   ],
   "source": [
    "dizi"
   ]
  },
  {
   "cell_type": "code",
   "execution_count": 68,
   "id": "d736b922",
   "metadata": {},
   "outputs": [],
   "source": [
    "kopyaDizi = dizi.copy()"
   ]
  },
  {
   "cell_type": "code",
   "execution_count": 70,
   "id": "a23c76e6",
   "metadata": {},
   "outputs": [
    {
     "data": {
      "text/plain": [
       "array([[ 0,  1,  2,  3,  4,  5],\n",
       "       [ 6,  7,  8,  9, 10, 11],\n",
       "       [12, 13, 14, 15, 16, 17],\n",
       "       [18, 19, 20, 21, 22, 23]])"
      ]
     },
     "execution_count": 70,
     "metadata": {},
     "output_type": "execute_result"
    }
   ],
   "source": [
    "kopyaDizi.reshape(4,6)"
   ]
  },
  {
   "cell_type": "code",
   "execution_count": 71,
   "id": "ce1f0e16",
   "metadata": {},
   "outputs": [],
   "source": [
    "kopyaDizi[3:5] = 0"
   ]
  },
  {
   "cell_type": "code",
   "execution_count": 72,
   "id": "4891cdbb",
   "metadata": {},
   "outputs": [
    {
     "data": {
      "text/plain": [
       "array([ 0,  1,  2,  0,  0,  5,  6,  7,  8,  9, 10, 11, 12, 13, 14, 15, 16,\n",
       "       17, 18, 19, 20, 21, 22, 23])"
      ]
     },
     "execution_count": 72,
     "metadata": {},
     "output_type": "execute_result"
    }
   ],
   "source": [
    "kopyaDizi"
   ]
  },
  {
   "cell_type": "code",
   "execution_count": 73,
   "id": "98a32afe",
   "metadata": {},
   "outputs": [
    {
     "data": {
      "text/plain": [
       "array([ 0,  1,  2,  3,  4,  5,  6,  7,  8,  9, 10, 11, 12, 13, 14, 15, 16,\n",
       "       17, 18, 19, 20, 21, 22, 23])"
      ]
     },
     "execution_count": 73,
     "metadata": {},
     "output_type": "execute_result"
    }
   ],
   "source": [
    "dizi"
   ]
  },
  {
   "cell_type": "markdown",
   "id": "7d68618b",
   "metadata": {},
   "source": [
    "## operation"
   ]
  },
  {
   "cell_type": "code",
   "execution_count": 74,
   "id": "5fcab113",
   "metadata": {},
   "outputs": [],
   "source": [
    "yeniDizi=np.random.randint(0,100,20)"
   ]
  },
  {
   "cell_type": "code",
   "execution_count": 75,
   "id": "b06c459a",
   "metadata": {},
   "outputs": [
    {
     "data": {
      "text/plain": [
       "array([91, 64, 99, 32, 66, 46, 66, 43, 25, 48, 90, 26, 55,  4, 42, 92, 55,\n",
       "       64, 69, 80])"
      ]
     },
     "execution_count": 75,
     "metadata": {},
     "output_type": "execute_result"
    }
   ],
   "source": [
    "yeniDizi"
   ]
  },
  {
   "cell_type": "code",
   "execution_count": 76,
   "id": "ccd7fb80",
   "metadata": {},
   "outputs": [],
   "source": [
    "a = yeniDizi > 24"
   ]
  },
  {
   "cell_type": "code",
   "execution_count": 77,
   "id": "c8dc6f4b",
   "metadata": {},
   "outputs": [
    {
     "data": {
      "text/plain": [
       "array([ True,  True,  True,  True,  True,  True,  True,  True,  True,\n",
       "        True,  True,  True,  True, False,  True,  True,  True,  True,\n",
       "        True,  True])"
      ]
     },
     "execution_count": 77,
     "metadata": {},
     "output_type": "execute_result"
    }
   ],
   "source": [
    "a"
   ]
  },
  {
   "cell_type": "code",
   "execution_count": 80,
   "id": "6f5d5dce",
   "metadata": {},
   "outputs": [
    {
     "data": {
      "text/plain": [
       "array([91, 64, 99, 32, 66, 46, 66, 43, 25, 48, 90, 26, 55, 42, 92, 55, 64,\n",
       "       69, 80])"
      ]
     },
     "execution_count": 80,
     "metadata": {},
     "output_type": "execute_result"
    }
   ],
   "source": [
    "yeniDizi[a]# indeks verir gibi dizinin içine a dizisini koyarsak a dizisinin true eleman değerlerini döndürür"
   ]
  },
  {
   "cell_type": "code",
   "execution_count": 81,
   "id": "c73f854f",
   "metadata": {},
   "outputs": [
    {
     "data": {
      "text/plain": [
       "array([182, 128, 198,  64, 132,  92, 132,  86,  50,  96, 180,  52, 110,\n",
       "         8,  84, 184, 110, 128, 138, 160])"
      ]
     },
     "execution_count": 81,
     "metadata": {},
     "output_type": "execute_result"
    }
   ],
   "source": [
    "yeniDizi + yeniDizi"
   ]
  },
  {
   "cell_type": "code",
   "execution_count": 82,
   "id": "5fdd8e5f",
   "metadata": {},
   "outputs": [
    {
     "data": {
      "text/plain": [
       "array([0, 0, 0, 0, 0, 0, 0, 0, 0, 0, 0, 0, 0, 0, 0, 0, 0, 0, 0, 0])"
      ]
     },
     "execution_count": 82,
     "metadata": {},
     "output_type": "execute_result"
    }
   ],
   "source": [
    "yeniDizi - yeniDizi"
   ]
  },
  {
   "cell_type": "code",
   "execution_count": 83,
   "id": "66c34d2e",
   "metadata": {},
   "outputs": [
    {
     "data": {
      "text/plain": [
       "array([8281, 4096, 9801, 1024, 4356, 2116, 4356, 1849,  625, 2304, 8100,\n",
       "        676, 3025,   16, 1764, 8464, 3025, 4096, 4761, 6400])"
      ]
     },
     "execution_count": 83,
     "metadata": {},
     "output_type": "execute_result"
    }
   ],
   "source": [
    "yeniDizi*yeniDizi"
   ]
  },
  {
   "cell_type": "code",
   "execution_count": 84,
   "id": "8b387061",
   "metadata": {},
   "outputs": [
    {
     "data": {
      "text/plain": [
       "array([1., 1., 1., 1., 1., 1., 1., 1., 1., 1., 1., 1., 1., 1., 1., 1., 1.,\n",
       "       1., 1., 1.])"
      ]
     },
     "execution_count": 84,
     "metadata": {},
     "output_type": "execute_result"
    }
   ],
   "source": [
    "yeniDizi/yeniDizi"
   ]
  },
  {
   "cell_type": "code",
   "execution_count": 85,
   "id": "c541501b",
   "metadata": {},
   "outputs": [
    {
     "data": {
      "text/plain": [
       "array([9.53939201, 8.        , 9.94987437, 5.65685425, 8.1240384 ,\n",
       "       6.78232998, 8.1240384 , 6.55743852, 5.        , 6.92820323,\n",
       "       9.48683298, 5.09901951, 7.41619849, 2.        , 6.4807407 ,\n",
       "       9.59166305, 7.41619849, 8.        , 8.30662386, 8.94427191])"
      ]
     },
     "execution_count": 85,
     "metadata": {},
     "output_type": "execute_result"
    }
   ],
   "source": [
    "np.sqrt(yeniDizi)"
   ]
  },
  {
   "cell_type": "code",
   "execution_count": 86,
   "id": "4bdc6a33",
   "metadata": {},
   "outputs": [
    {
     "data": {
      "text/plain": [
       "1157"
      ]
     },
     "execution_count": 86,
     "metadata": {},
     "output_type": "execute_result"
    }
   ],
   "source": [
    "np.sum(yeniDizi)"
   ]
  },
  {
   "cell_type": "code",
   "execution_count": 88,
   "id": "8a92a73c",
   "metadata": {},
   "outputs": [
    {
     "data": {
      "text/plain": [
       "4"
      ]
     },
     "execution_count": 88,
     "metadata": {},
     "output_type": "execute_result"
    }
   ],
   "source": [
    "np.min(yeniDizi)"
   ]
  },
  {
   "cell_type": "code",
   "execution_count": 89,
   "id": "2312cd83",
   "metadata": {},
   "outputs": [
    {
     "data": {
      "text/plain": [
       "99"
      ]
     },
     "execution_count": 89,
     "metadata": {},
     "output_type": "execute_result"
    }
   ],
   "source": [
    "np.max(yeniDizi)"
   ]
  },
  {
   "cell_type": "code",
   "execution_count": null,
   "id": "7fc7dee0",
   "metadata": {},
   "outputs": [],
   "source": []
  }
 ],
 "metadata": {
  "kernelspec": {
   "display_name": "Python 3 (ipykernel)",
   "language": "python",
   "name": "python3"
  },
  "language_info": {
   "codemirror_mode": {
    "name": "ipython",
    "version": 3
   },
   "file_extension": ".py",
   "mimetype": "text/x-python",
   "name": "python",
   "nbconvert_exporter": "python",
   "pygments_lexer": "ipython3",
   "version": "3.10.9"
  }
 },
 "nbformat": 4,
 "nbformat_minor": 5
}
